{
 "cells": [
  {
   "cell_type": "markdown",
   "metadata": {},
   "source": [
    "# Dataset Preparation from WikiArt Dataset"
   ]
  },
  {
   "cell_type": "code",
   "execution_count": 1,
   "metadata": {},
   "outputs": [],
   "source": [
    "import pandas as pd\n",
    "\n",
    "df1 = pd.read_csv(r\"E:\\GSOC2025\\wikiart_csv\\artist_train.csv\",header=None, names=[\"file\", \"artist\"])\n",
    "df2 = pd.read_csv(r\"E:\\GSOC2025\\wikiart_csv\\genre_train.csv\",header=None, names=[\"file\", \"genre\"])\n",
    "df3 = pd.read_csv(r\"E:\\GSOC2025\\wikiart_csv\\style_train.csv\",header=None, names=[\"file\", \"style\"])\n",
    "\n",
    "train_df = df1.merge(df2, on=\"file\").merge(df3, on=\"file\")"
   ]
  },
  {
   "cell_type": "code",
   "execution_count": 5,
   "metadata": {},
   "outputs": [
    {
     "name": "stdout",
     "output_type": "stream",
     "text": [
      "                                                    file  artist  genre  style\n",
      "0      Realism/vincent-van-gogh_pine-trees-in-the-fen...      22      4     21\n",
      "1      Baroque/rembrandt_the-angel-appearing-to-the-s...      20      7      4\n",
      "2      Post_Impressionism/paul-cezanne_portrait-of-th...      16      6     20\n",
      "3      Impressionism/pierre-auguste-renoir_young-girl...      17      2     12\n",
      "4      Art_Nouveau_Modern/boris-kustodiev_meeting-eas...       1      2      3\n",
      "...                                                  ...     ...    ...    ...\n",
      "11271  Cubism/pablo-picasso_still-life-with-lemon-and...      15      9      7\n",
      "11272  Post_Impressionism/vincent-van-gogh_sloping-pa...      22      2     20\n",
      "11273  Impressionism/pierre-auguste-renoir_head-of-a-...      17      8     12\n",
      "11274  Northern_Renaissance/albrecht-durer_adam-and-e...       0      7     17\n",
      "11275  Realism/vincent-van-gogh_man-pulling-a-harrow-...      22      8     21\n",
      "\n",
      "[11276 rows x 4 columns]\n"
     ]
    }
   ],
   "source": [
    "print(train_df)"
   ]
  },
  {
   "cell_type": "code",
   "execution_count": 6,
   "metadata": {},
   "outputs": [],
   "source": [
    "import pandas as pd\n",
    "\n",
    "df1 = pd.read_csv(r\"E:\\GSOC2025\\wikiart_csv\\artist_val.csv\",header=None, names=[\"file\", \"artist\"])\n",
    "df2 = pd.read_csv(r\"E:\\GSOC2025\\wikiart_csv\\genre_val.csv\",header=None, names=[\"file\", \"genre\"])\n",
    "df3 = pd.read_csv(r\"E:\\GSOC2025\\wikiart_csv\\style_val.csv\",header=None, names=[\"file\", \"style\"])\n",
    "\n",
    "val_df = df1.merge(df2, on=\"file\").merge(df3, on=\"file\")"
   ]
  },
  {
   "cell_type": "code",
   "execution_count": 8,
   "metadata": {},
   "outputs": [
    {
     "name": "stdout",
     "output_type": "stream",
     "text": [
      "                                                   file  artist  genre  style\n",
      "0     Impressionism/claude-monet_banks-of-the-seine-...       4      4     12\n",
      "1     Impressionism/claude-monet_vetheuil-the-church...       4      1     12\n",
      "2     Impressionism/claude-monet_jeanne-marguerite-l...       4      2     12\n",
      "3     Impressionism/claude-monet_houses-of-parliamen...       4      1     12\n",
      "4     Impressionism/claude-monet_rouen-cathedral-the...       4      1     12\n",
      "...                                                 ...     ...    ...    ...\n",
      "4702         Cubism/pablo-picasso_two-naked-figures.jpg      15      8      7\n",
      "4703       Symbolism/pablo-picasso_the-tragedy-1903.jpg      15      2     24\n",
      "4704  Expressionism/pablo-picasso_drunk-woman-is-tir...      15      2      9\n",
      "4705    Expressionism/pablo-picasso_untitled-1958-1.jpg      15      4      9\n",
      "4706    Cubism/pablo-picasso_crane-and-pitcher-1945.jpg      15      9      7\n",
      "\n",
      "[4707 rows x 4 columns]\n"
     ]
    }
   ],
   "source": [
    "print(val_df)"
   ]
  },
  {
   "cell_type": "code",
   "execution_count": 9,
   "metadata": {},
   "outputs": [],
   "source": [
    "train_df.to_csv(r\"E:\\GSOC2025\\wikiart_csv\\train_dataset.csv\", index=False, header=False)"
   ]
  },
  {
   "cell_type": "code",
   "execution_count": 10,
   "metadata": {},
   "outputs": [],
   "source": [
    "val_df.to_csv(r\"E:\\GSOC2025\\wikiart_csv\\val_dataset.csv\", index=False, header=False)"
   ]
  }
 ],
 "metadata": {
  "kernelspec": {
   "display_name": "deeplearning_pytorch",
   "language": "python",
   "name": "python3"
  },
  "language_info": {
   "codemirror_mode": {
    "name": "ipython",
    "version": 3
   },
   "file_extension": ".py",
   "mimetype": "text/x-python",
   "name": "python",
   "nbconvert_exporter": "python",
   "pygments_lexer": "ipython3",
   "version": "3.12.7"
  }
 },
 "nbformat": 4,
 "nbformat_minor": 2
}
